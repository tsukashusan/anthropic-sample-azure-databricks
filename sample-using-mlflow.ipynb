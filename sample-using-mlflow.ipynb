{
 "cells": [
  {
   "cell_type": "markdown",
   "id": "3c231d99",
   "metadata": {},
   "source": [
    "# Databricksを使った(MLFlow)、Anthropic 3.7 sonnect サンプル "
   ]
  },
  {
   "cell_type": "code",
   "execution_count": null,
   "id": "2a81612c",
   "metadata": {},
   "outputs": [],
   "source": [
    "import os\n",
    "import mlflow.deployments\n",
    "from dotenv import load_dotenv\n",
    "\n",
    "# Only required when running this example outside of a Databricks Notebook\n",
    "\n",
    "load_dotenv()  # take environment variables\n",
    "\n",
    "# write to .env\n",
    "#os.environ['DATABRICKS_HOST'] = \"https://<workspace_host>.databricks.com\"\n",
    "#os.environ['DATABRICKS_TOKEN'] = \"dapi-your-databricks-token\"\n",
    "endpoint = os.environ['END_POINT']\n",
    "client = mlflow.deployments.get_deploy_client(\"databricks\")\n",
    "\n",
    "completions_response = client.predict(\n",
    "    endpoint=os.environ['END_POINT'],\n",
    "    inputs={\"messages\":[{\"role\":\"user\",\"content\":\"こんにちは\"}]}\n",
    ")"
   ]
  },
  {
   "cell_type": "markdown",
   "id": "62d85714",
   "metadata": {},
   "source": [
    "### Print the response"
   ]
  },
  {
   "cell_type": "code",
   "execution_count": null,
   "id": "4348a049",
   "metadata": {},
   "outputs": [],
   "source": [
    "print(completions_response)"
   ]
  }
 ],
 "metadata": {
  "kernelspec": {
   "display_name": "venv",
   "language": "python",
   "name": "python3"
  },
  "language_info": {
   "codemirror_mode": {
    "name": "ipython",
    "version": 3
   },
   "file_extension": ".py",
   "mimetype": "text/x-python",
   "name": "python",
   "nbconvert_exporter": "python",
   "pygments_lexer": "ipython3",
   "version": "3.13.3"
  }
 },
 "nbformat": 4,
 "nbformat_minor": 5
}
