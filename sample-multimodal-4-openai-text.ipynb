{
 "cells": [
  {
   "cell_type": "markdown",
   "id": "57aa4ab8",
   "metadata": {},
   "source": [
    "# システムプロンプト"
   ]
  },
  {
   "cell_type": "code",
   "execution_count": null,
   "id": "9b67f0a4",
   "metadata": {},
   "outputs": [],
   "source": [
    "system_prompt = '''\n",
    "You are a helpful assistant that helps people find information.Please ensure the output is always in Markdown format.\n",
    "'''"
   ]
  },
  {
   "cell_type": "markdown",
   "id": "29d9ccc0",
   "metadata": {},
   "source": [
    "# プロンプト"
   ]
  },
  {
   "cell_type": "code",
   "execution_count": null,
   "id": "1ae3f4d5",
   "metadata": {},
   "outputs": [],
   "source": [
    "prompt = '''\n",
    "こんにちは\n",
    "'''"
   ]
  },
  {
   "cell_type": "code",
   "execution_count": null,
   "id": "82537058",
   "metadata": {},
   "outputs": [],
   "source": [
    "from openai import OpenAI\n",
    "import os\n",
    "from dotenv import load_dotenv\n",
    "\n",
    "\n",
    "load_dotenv()  # take environment variables\n",
    "\n",
    "from openai import AzureOpenAI\n",
    "from azure.identity import DefaultAzureCredential, get_bearer_token_provider\n",
    "import httpx\n",
    "token_provider = get_bearer_token_provider(\n",
    "    DefaultAzureCredential(), \"https://cognitiveservices.azure.com/.default\"\n",
    ")\n",
    "\n",
    "client = AzureOpenAI(\n",
    "    azure_ad_token_provider=token_provider,\n",
    "    timeout=httpx.Timeout(3600.0, read=3600.0, write=3600.0, connect=3600.0)\n",
    ")\n"
   ]
  },
  {
   "cell_type": "code",
   "execution_count": null,
   "id": "0999a1de",
   "metadata": {},
   "outputs": [],
   "source": [
    "system_prompt = system_prompt.replace(\"\\\\n\",\"\\n\")\n",
    "prompt = prompt.replace(\"\\\\n\",\"\\n\").replace(\"\\\\t\",\"\\t\") + \"ただし、出力はMarkdownの形式で出力すること。\""
   ]
  },
  {
   "cell_type": "code",
   "execution_count": null,
   "id": "3268ca11",
   "metadata": {},
   "outputs": [],
   "source": [
    "response = client.chat.completions.create(\n",
    "    model=os.environ[\"OPENAI_MODEL_NAME\"],\n",
    "    messages=[\n",
    "        {\n",
    "            \"role\": \"system\",\n",
    "            \"content\": f\"{system_prompt}\"\n",
    "        },\n",
    "        {\n",
    "            \"role\": \"user\",\n",
    "            \"content\": [ {\n",
    "                \"type\": \"text\",\n",
    "                \"text\": prompt\n",
    "            }]\n",
    "        }\n",
    "    ]\n",
    ")"
   ]
  },
  {
   "cell_type": "code",
   "execution_count": null,
   "id": "8794961f",
   "metadata": {},
   "outputs": [],
   "source": [
    "print(f\"{response.choices[0].message.role}: {response.choices[0].message.content}\")\n",
    "print(\"Model:\", response.model)\n",
    "print(\"Usage:\")\n",
    "print(\"\\tPrompt tokens:\", response.usage.prompt_tokens)\n",
    "print(\"\\tCompletion tokens:\", response.usage.completion_tokens)\n",
    "print(\"\\tTotal tokens:\", response.usage.total_tokens)"
   ]
  },
  {
   "cell_type": "code",
   "execution_count": null,
   "id": "0f4dc58e",
   "metadata": {},
   "outputs": [],
   "source": [
    "with open(f\"output-{os.environ['OPENAI_MODEL_NAME']}.markdown\", \"w\") as o:\n",
    "    print(response.choices[0].message.content, file=o)"
   ]
  }
 ],
 "metadata": {
  "kernelspec": {
   "display_name": ".venv",
   "language": "python",
   "name": "python3"
  },
  "language_info": {
   "codemirror_mode": {
    "name": "ipython",
    "version": 3
   },
   "file_extension": ".py",
   "mimetype": "text/x-python",
   "name": "python",
   "nbconvert_exporter": "python",
   "pygments_lexer": "ipython3",
   "version": "3.13.7"
  }
 },
 "nbformat": 4,
 "nbformat_minor": 5
}
