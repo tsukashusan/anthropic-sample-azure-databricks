{
 "cells": [
  {
   "cell_type": "markdown",
   "id": "850907c0",
   "metadata": {},
   "source": [
    "# システムプロンプト"
   ]
  },
  {
   "cell_type": "code",
   "execution_count": null,
   "id": "a5e1cb04",
   "metadata": {},
   "outputs": [],
   "source": [
    "system_prompt = '''\n",
    "You are a helpful assistant that helps people find information.Please ensure the output is always in Markdown format.\n",
    "'''"
   ]
  },
  {
   "cell_type": "markdown",
   "id": "042788f5",
   "metadata": {},
   "source": [
    "# プロンプト"
   ]
  },
  {
   "cell_type": "code",
   "execution_count": null,
   "id": "1caeda4d",
   "metadata": {},
   "outputs": [],
   "source": [
    "prompt = '''\n",
    "こんにちは\n",
    "'''"
   ]
  },
  {
   "cell_type": "markdown",
   "id": "9b95debf",
   "metadata": {},
   "source": [
    "# URL"
   ]
  },
  {
   "cell_type": "code",
   "execution_count": null,
   "id": "06230b22",
   "metadata": {},
   "outputs": [],
   "source": [
    "url = '''\n",
    "https://diamond-rm.imgix.net/wp-content/uploads/2023/04/dcs230415_MD_00-noresize.jpg\n",
    "'''\n",
    "\n",
    "url = url.replace(\"\\\\n\",\"\\n\").replace(\"\\\\t\",\"\\t\")\n",
    "\n",
    "file_suffix = \"jpeg\""
   ]
  },
  {
   "cell_type": "code",
   "execution_count": null,
   "id": "82537058",
   "metadata": {},
   "outputs": [],
   "source": [
    "from openai import OpenAI\n",
    "import os\n",
    "from dotenv import load_dotenv\n",
    "\n",
    "\n",
    "load_dotenv()  # take environment variables\n",
    "\n",
    "# How to get your Databricks token: https://docs.databricks.com/en/dev-tools/auth/pat.html\n",
    "DATABRICKS_TOKEN = os.environ['DATABRICKS_TOKEN']\n",
    "# Alternatively in a Databricks notebook you can use this:\n",
    "# DATABRICKS_TOKEN = dbutils.notebook.entry_point.getDbutils().notebook().getContext().apiToken()[)\n",
    "import httpx\n",
    "\n",
    "client = OpenAI(\n",
    "    api_key=DATABRICKS_TOKEN,\n",
    "    base_url=f\"{os.environ['DATABRICKS_HOST']}{os.environ['OPTION_END_POINT_PARAM']}\",\n",
    "    timeout=httpx.Timeout(3600.0, read=3600.0, write=3600.0, connect=3600.0)\n",
    ")\n",
    "\n",
    "image_url = url\n",
    "image_format = file_suffix.lower()\n",
    "\n",
    "from urllib.request import urlopen, Request\n",
    "import base64\n",
    "\n",
    "image_url = os.environ['IMAGE_SAMPLE_URL']\n",
    "request = Request( image_url, headers={\"User-Agent\": \"Mozilla/5.0\"})\n",
    "image_data = base64.b64encode(urlopen(request).read()).decode(\"utf-8\")\n",
    "image_format = os.environ['FILE_SUFFIX']\n",
    "data_url = f\"data:image/{image_format};base64,{image_data}\""
   ]
  },
  {
   "cell_type": "code",
   "execution_count": null,
   "id": "5ff220db",
   "metadata": {},
   "outputs": [],
   "source": [
    "import requests\n",
    "import IPython.display as Disp\n",
    "\n",
    "Disp.Image(requests.get(image_url).content)"
   ]
  },
  {
   "cell_type": "code",
   "execution_count": null,
   "id": "0999a1de",
   "metadata": {},
   "outputs": [],
   "source": [
    "system_prompt = system_prompt.replace(\"\\\\n\",\"\\n\")\n",
    "prompt = prompt.replace(\"\\\\n\",\"\\n\") + \"ただし、出力はMarkdownの形式で出力すること。\""
   ]
  },
  {
   "cell_type": "code",
   "execution_count": null,
   "id": "3268ca11",
   "metadata": {},
   "outputs": [],
   "source": [
    "response = client.chat.completions.create(\n",
    "    model=os.environ['DATABRICKS_MODEL_NAME'],\n",
    "    messages=[\n",
    "        {\n",
    "            \"role\": \"system\",\n",
    "            \"content\": f\"{os.environ['SYSTEM_PROMPT']}\"\n",
    "        },\n",
    "        {\n",
    "            \"role\": \"user\",\n",
    "            \"content\": [ {\n",
    "                \"type\": \"text\",\n",
    "                \"text\": prompt\n",
    "            },\n",
    "            {\n",
    "                \"type\": \"image_url\",\n",
    "                \"image_url\": {\n",
    "                    \"url\": data_url\n",
    "                }\n",
    "            }]\n",
    "        }\n",
    "    ]\n",
    ")"
   ]
  },
  {
   "cell_type": "code",
   "execution_count": null,
   "id": "bc6843ad",
   "metadata": {},
   "outputs": [],
   "source": [
    "%%javascript\n",
    "IPython.OutputArea.auto_scroll_threshold = 9999;"
   ]
  },
  {
   "cell_type": "code",
   "execution_count": null,
   "id": "8794961f",
   "metadata": {},
   "outputs": [],
   "source": [
    "print(f\"{response.choices[0].message.role}: {response.choices[0].message.content}\")\n",
    "print(\"Model:\", response.model)\n",
    "print(\"Usage:\")\n",
    "print(\"\\tPrompt tokens:\", response.usage.prompt_tokens)\n",
    "print(\"\\tCompletion tokens:\", response.usage.completion_tokens)\n",
    "print(\"\\tTotal tokens:\", response.usage.total_tokens)"
   ]
  },
  {
   "cell_type": "code",
   "execution_count": null,
   "id": "0b6a7d4e",
   "metadata": {},
   "outputs": [],
   "source": [
    "with open(f\"output-anthropic-{os.environ['DATABRICKS_MODEL_NAME']}-multimodal.markdown\", \"w\") as o:\n",
    "    print(response.choices[0].message.content, file=o)"
   ]
  }
 ],
 "metadata": {
  "kernelspec": {
   "display_name": ".venv",
   "language": "python",
   "name": "python3"
  },
  "language_info": {
   "codemirror_mode": {
    "name": "ipython",
    "version": 3
   },
   "file_extension": ".py",
   "mimetype": "text/x-python",
   "name": "python",
   "nbconvert_exporter": "python",
   "pygments_lexer": "ipython3",
   "version": "3.13.7"
  }
 },
 "nbformat": 4,
 "nbformat_minor": 5
}
