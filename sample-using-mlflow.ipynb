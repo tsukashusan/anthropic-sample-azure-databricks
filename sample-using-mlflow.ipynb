{
 "cells": [
  {
   "cell_type": "markdown",
   "id": "3c231d99",
   "metadata": {},
   "source": [
    "# Databricksを使った(MLFlow)、Anthropic 4.0 sonnect サンプル "
   ]
  },
  {
   "cell_type": "code",
   "execution_count": null,
   "id": "2a81612c",
   "metadata": {},
   "outputs": [],
   "source": [
    "import os\n",
    "import mlflow.deployments\n",
    "from dotenv import load_dotenv\n",
    "\n",
    "# Only required when running this example outside of a Databricks Notebook\n",
    "\n",
    "load_dotenv()  # take environment variables\n",
    "\n",
    "# write to .env\n",
    "\n",
    "client = mlflow.deployments.get_deploy_client(\"databricks\")\n",
    "from urllib.request import urlopen, Request\n",
    "import base64\n",
    "image_url = os.environ['IMAGE_SAMPLE_URL']\n",
    "request = Request( image_url, headers={\"User-Agent\": \"Mozilla/5.0\"})\n",
    "image_data = base64.b64encode(urlopen(request).read()).decode(\"utf-8\")\n",
    "image_format = os.environ['FILE_SUFFIX']\n",
    "data_url = f\"data:image/{os.environ['FILE_SUFFIX']};base64,{image_data}\""
   ]
  },
  {
   "cell_type": "code",
   "execution_count": null,
   "id": "0509f3c4",
   "metadata": {},
   "outputs": [],
   "source": [
    "import requests\n",
    "import IPython.display as Disp\n",
    "\n",
    "Disp.Image(requests.get(image_url).content)"
   ]
  },
  {
   "cell_type": "code",
   "execution_count": null,
   "id": "12e52fd0",
   "metadata": {},
   "outputs": [],
   "source": [
    "prompt_system = {\n",
    "    \"role\": \"user\",\n",
    "    \"content\": f\"{os.environ['SYSTEM_PROMPT']}\"\n",
    "}\n",
    "prompt_user = {\n",
    "            \"role\": \"user\",\n",
    "            \"content\": [ {\n",
    "                \"type\": \"text\",\n",
    "                \"text\": os.environ['PROMPT'].replace(\"\\\\n\",\"\\n\")\n",
    "            },\n",
    "            {\n",
    "                \"type\": \"image_url\",\n",
    "                \"image_url\": {\n",
    "                    \"url\": data_url\n",
    "                }\n",
    "            }]\n",
    "        }\n",
    "completions_response = client.predict(\n",
    "    endpoint=os.environ['DATABRICKS_MODEL_NAME'],\n",
    "    inputs={\"messages\":[prompt_system, prompt_user]}\n",
    ")"
   ]
  },
  {
   "cell_type": "markdown",
   "id": "62d85714",
   "metadata": {},
   "source": [
    "### Print the response"
   ]
  },
  {
   "cell_type": "code",
   "execution_count": null,
   "id": "4348a049",
   "metadata": {},
   "outputs": [],
   "source": [
    "print(f\"{completions_response.choices[0]['message']['role']}: {completions_response.choices[0]['message']['content']}\")\n",
    "print(\"Model:\", completions_response.model)\n",
    "print(\"Usage:\")\n",
    "print(\"\\tPrompt tokens:\", completions_response.usage.prompt_tokens)\n",
    "print(\"\\tCompletion tokens:\", completions_response.usage.completion_tokens)\n",
    "print(\"\\tTotal tokens:\", completions_response.usage.total_tokens)"
   ]
  },
  {
   "cell_type": "code",
   "execution_count": null,
   "id": "bee73aef",
   "metadata": {},
   "outputs": [],
   "source": [
    "with open(f\"output-use-mlflow-anthropic-{os.environ['DATABRICKS_MODEL_NAME']}.markdown\", \"w\") as o:\n",
    "    print(completions_response.choices[0]['message']['content'], file=o)"
   ]
  }
 ],
 "metadata": {
  "kernelspec": {
   "display_name": ".venv",
   "language": "python",
   "name": "python3"
  },
  "language_info": {
   "codemirror_mode": {
    "name": "ipython",
    "version": 3
   },
   "file_extension": ".py",
   "mimetype": "text/x-python",
   "name": "python",
   "nbconvert_exporter": "python",
   "pygments_lexer": "ipython3",
   "version": "3.13.7"
  }
 },
 "nbformat": 4,
 "nbformat_minor": 5
}
